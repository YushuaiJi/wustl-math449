{
  "nbformat": 4,
  "nbformat_minor": 0,
  "metadata": {
    "colab": {
      "name": "449.ipynb",
      "provenance": [],
      "authorship_tag": "ABX9TyNsLqf1c/27BXhqBDal5V1A",
      "include_colab_link": true
    },
    "kernelspec": {
      "name": "python3",
      "display_name": "Python 3"
    }
  },
  "cells": [
    {
      "cell_type": "markdown",
      "metadata": {
        "id": "view-in-github",
        "colab_type": "text"
      },
      "source": [
        "<a href=\"https://colab.research.google.com/github/YushuaiJi/wustl-math449/blob/master/449hw1.ipynb\" target=\"_parent\"><img src=\"https://colab.research.google.com/assets/colab-badge.svg\" alt=\"Open In Colab\"/></a>"
      ]
    },
    {
      "cell_type": "code",
      "metadata": {
        "id": "Zt0Ns8RFYiht",
        "colab_type": "code",
        "colab": {}
      },
      "source": [
        "import numpy as np\n",
        "import matplotlib as mpl\n",
        "import matplotlib.pyplot as plt\n",
        "def f(x):\n",
        "    return x*x*x-2\n",
        "def df(x):\n",
        "    return 3*x*x\n",
        "def newtonArray1(x0, n):#input initial guess x0，和iteration number, and return the array.\n",
        "    x = np.zeros(n+1) \n",
        "    x[0] = x0\n",
        "    for k in range(n):\n",
        "        x[k+1] = x[k] - f(x[k])/df(x[k]) \n",
        "    return x  \n",
        "\n",
        "def newtonArray(x0, n):#input initial guess x0，和iteration number, and return final number.\n",
        "    x = np.zeros(n+1) \n",
        "    x[0] = x0\n",
        "    for k in range(n):\n",
        "        x[k+1] = x[k] - f(x[k])/df(x[k]) \n",
        "    return x[n]\n",
        "\n",
        "def DifferentOfValue(n1,n):#n1 is different initial guess and n is different iteration number\n",
        "    x = np.zeros(n1)\n",
        "    for k in range(n1):\n",
        "        x[k] = newtonArray(k+1, n)\n",
        "    return x "
      ],
      "execution_count": 14,
      "outputs": []
    },
    {
      "cell_type": "code",
      "metadata": {
        "id": "mr1FwEDrFwBN",
        "colab_type": "code",
        "colab": {}
      },
      "source": [
        "def plotError(y, x):\n",
        "    '''\n",
        "    Plot the error using matplotlib\n",
        "    '''\n",
        "    err = y - x\n",
        "    plt.semilogy(np.abs(err))\n",
        "    plt.show() "
      ],
      "execution_count": 15,
      "outputs": []
    },
    {
      "cell_type": "code",
      "metadata": {
        "id": "8A3afXXgIB0r",
        "colab_type": "code",
        "colab": {
          "base_uri": "https://localhost:8080/",
          "height": 266
        },
        "outputId": "290f11b0-9f5c-4979-c291-5c5c19c49bfa"
      },
      "source": [
        "n = 4\n",
        "x0 = 2\n",
        "x = newtonArray1(x0, n)\n",
        "y = 2**(1/3)\n",
        "plotError(y,x)"
      ],
      "execution_count": 18,
      "outputs": [
        {
          "output_type": "display_data",
          "data": {
            "image/png": "[encoded data removed]",
            "text/plain": [
              "<Figure size 432x288 with 1 Axes>"
            ]
          },
          "metadata": {
            "tags": [],
            "needs_background": "light"
          }
        }
      ]
    },
    {
      "cell_type": "code",
      "metadata": {
        "id": "U9ZJizxpJ88S",
        "colab_type": "code",
        "colab": {
          "base_uri": "https://localhost:8080/",
          "height": 554
        },
        "outputId": "43c769cb-b379-4ab1-f937-9b36e62ec889"
      },
      "source": [
        "x1 = DifferentOfValue(100,10)\n",
        "plt.plot(x1)\n",
        "print(x1)"
      ],
      "execution_count": 24,
      "outputs": [
        {
          "output_type": "stream",
          "text": [
            "[1.25992105 1.25992105 1.25992105 1.25992105 1.25992105 1.25992105\n",
            " 1.25992105 1.25992105 1.25992105 1.25992105 1.25992105 1.25992105\n",
            " 1.25992105 1.25992105 1.25992105 1.25992105 1.25992105 1.25992106\n",
            " 1.25992108 1.25992118 1.25992152 1.2599225  1.259925   1.25993066\n",
            " 1.25994232 1.25996443 1.26000349 1.26006841 1.26017071 1.26032461\n",
            " 1.2605469  1.26085665 1.26127487 1.26182395 1.26252711 1.26340787\n",
            " 1.26448946 1.26579433 1.26734375 1.26915741 1.2712532  1.27364698\n",
            " 1.27635249 1.27938132 1.28274288 1.2864445  1.29049149 1.29488729\n",
            " 1.29963359 1.30473052 1.31017674 1.31596966 1.32210557 1.32857978\n",
            " 1.33538679 1.34252038 1.34997375 1.35773966 1.36581048 1.3741783\n",
            " 1.38283501 1.39177237 1.40098207 1.41045578 1.4201852  1.43016209\n",
            " 1.44037832 1.45082587 1.46149688 1.47238364 1.48347863 1.49477454\n",
            " 1.50626423 1.51794078 1.52979747 1.54182781 1.55402551 1.56638449\n",
            " 1.57889889 1.59156304 1.60437148 1.61731897 1.63040043 1.643611\n",
            " 1.65694598 1.67040086 1.68397132 1.69765317 1.71144243 1.72533523\n",
            " 1.73932788 1.75341683 1.76759866 1.78187011 1.79622801 1.81066936\n",
            " 1.82519124 1.83979087 1.85446556 1.86921275]\n"
          ],
          "name": "stdout"
        },
        {
          "output_type": "display_data",
          "data": {
            "image/png": "[encoded data removed]",
            "text/plain": [
              "<Figure size 432x288 with 1 Axes>"
            ]
          },
          "metadata": {
            "tags": [],
            "needs_background": "light"
          }
        }
      ]
    }
  ]
}