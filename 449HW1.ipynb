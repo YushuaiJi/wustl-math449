{
  "nbformat": 4,
  "nbformat_minor": 0,
  "metadata": {
    "colab": {
      "name": "449.ipynb",
      "provenance": [],
      "authorship_tag": "ABX9TyOaHf+X3egDuUc5rv9xXWe8",
      "include_colab_link": true
    },
    "kernelspec": {
      "name": "python3",
      "display_name": "Python 3"
    }
  },
  "cells": [
    {
      "cell_type": "markdown",
      "metadata": {
        "id": "view-in-github",
        "colab_type": "text"
      },
      "source": [
        "<a href=\"https://colab.research.google.com/github/YushuaiJi/wustl-math449/blob/master/449HW1.ipynb\" target=\"_parent\"><img src=\"https://colab.research.google.com/assets/colab-badge.svg\" alt=\"Open In Colab\"/></a>"
      ]
    },
    {
      "cell_type": "code",
      "metadata": {
        "id": "Zt0Ns8RFYiht",
        "colab_type": "code",
        "colab": {}
      },
      "source": [
        "import numpy as np\n",
        "import matplotlib as mpl\n",
        "import matplotlib.pyplot as plt\n",
        "def f(x):\n",
        "    return x*x*x-2\n",
        "def df(x):\n",
        "    return 3*x*x\n",
        "def newtonArray1(x0, n):#input initial guess x0，和iteration number, and return the array.\n",
        "    x = np.zeros(n+1) \n",
        "    x[0] = x0\n",
        "    for k in range(n):\n",
        "        x[k+1] = x[k] - f(x[k])/df(x[k]) \n",
        "    return x  \n",
        "\n",
        "def newtonArray(x0, n):#input initial guess x0，和iteration number, and return final number.\n",
        "    x = np.zeros(n+1) \n",
        "    x[0] = x0\n",
        "    for k in range(n):\n",
        "        x[k+1] = x[k] - f(x[k])/df(x[k]) \n",
        "    return x[n]\n",
        "\n",
        "def DifferentOfValue(n1,n):#n1 is different initial guess and n is different iteration number\n",
        "    x = np.zeros(n1)\n",
        "    for k in range(n1):\n",
        "        x[k] = newtonArray(k+1, n)\n",
        "    return x "
      ],
      "execution_count": null,
      "outputs": []
    },
    {
      "cell_type": "code",
      "metadata": {
        "id": "mr1FwEDrFwBN",
        "colab_type": "code",
        "colab": {}
      },
      "source": [
        "def plotError(y, x):\n",
        "    '''\n",
        "    Plot the error using matplotlib\n",
        "    '''\n",
        "    err = y - x\n",
        "    plt.semilogy(np.abs(err))\n",
        "    plt.show() "
      ],
      "execution_count": null,
      "outputs": []
    },
    {
      "cell_type": "code",
      "metadata": {
        "id": "8A3afXXgIB0r",
        "colab_type": "code",
        "colab": {
          "base_uri": "https://localhost:8080/",
          "height": 266
        },
        "outputId": "290f11b0-9f5c-4979-c291-5c5c19c49bfa"
      },
      "source": [
        "n = 4\n",
        "x0 = 2\n",
        "x = newtonArray1(x0, n)\n",
        "y = 2**(1/3)\n",
        "plotError(y,x)\n",
        "#we can find error is becomes smaller when iterations becomes larger"
      ],
      "execution_count": null,
      "outputs": [
        {
          "output_type": "display_data",
          "data": {
            "image/png": "[encoded data removed]",
            "text/plain": [
              "<Figure size 432x288 with 1 Axes>"
            ]
          },
          "metadata": {
            "tags": [],
            "needs_background": "light"
          }
        }
      ]
    },
    {
      "cell_type": "code",
      "metadata": {
        "id": "U9ZJizxpJ88S",
        "colab_type": "code",
        "colab": {
          "base_uri": "https://localhost:8080/",
          "height": 554
        },
        "outputId": "249bf12e-c4e6-48bf-e469-4bd9b1e86a41"
      },
      "source": [
        "#We can try different value in different iteration.\n",
        "#If the iteration is small, \n",
        "#we may cannot get the same convergence value. \n",
        "#Like if we limit initial value range in (100,4),and if iteration is 4, we can get the answer as follows:\n",
        "x1 = DifferentOfValue(100,4)\n",
        "plt.plot(x1)\n",
        "print(x1)"
      ],
      "execution_count": null,
      "outputs": [
        {
          "output_type": "stream",
          "text": [
            "[ 1.25992105  1.25992186  1.2616018   1.28367182  1.34815923  1.45305078\n",
            "  1.58694108  1.74003031  1.90573014  2.07985587  2.25975167  2.44370141\n",
            "  2.63056938  2.81958519  3.01021373  3.20207507  3.39489403  3.58846761\n",
            "  3.78264357  3.97730605  4.17236563  4.36775247  4.56341137  4.75929828\n",
            "  4.9553777   5.15162074  5.34800375  5.54450718  5.74111478  5.93781294\n",
            "  6.13459021  6.33143688  6.52834469  6.72530658  6.92231647  7.11936911\n",
            "  7.31645995  7.51358503  7.71074089  7.90792449  8.10513317  8.30236457\n",
            "  8.4996166   8.69688741  8.89417535  9.09147896  9.2887969   9.48612801\n",
            "  9.68347121  9.88082556 10.07819018 10.27556429 10.47294719 10.67033824\n",
            " 10.86773683 11.06514245 11.26255459 11.45997283 11.65739674 11.85482595\n",
            " 12.05226011 12.24969892 12.44714208 12.64458931 12.84204037 13.03949504\n",
            " 13.23695308 13.43441432 13.63187856 13.82934563 14.02681538 14.22428766\n",
            " 14.42176233 14.61923927 14.81671834 15.01419945 15.21168248 15.40916733\n",
            " 15.60665393 15.80414217 16.00163199 16.19912329 16.39661602 16.5941101\n",
            " 16.79160547 16.98910207 17.18659984 17.38409874 17.58159871 17.7790997\n",
            " 17.97660167 18.17410458 18.37160839 18.56911305 18.76661854 18.96412482\n",
            " 19.16163185 19.35913961 19.55664806 19.75415719]\n"
          ],
          "name": "stdout"
        },
        {
          "output_type": "display_data",
          "data": {
            "image/png": "[encoded data removed]",
            "text/plain": [
              "<Figure size 432x288 with 1 Axes>"
            ]
          },
          "metadata": {
            "tags": [],
            "needs_background": "light"
          }
        }
      ]
    },
    {
      "cell_type": "code",
      "metadata": {
        "id": "arMswKjaNhsl",
        "colab_type": "code",
        "colab": {
          "base_uri": "https://localhost:8080/",
          "height": 554
        },
        "outputId": "23ec5f69-7f7f-47d7-ebd0-b8ba382cb270"
      },
      "source": [
        "#We can find that after 4 iteration, we cannot get the convergence\n",
        "#Value, and different initial guess will have different answer.\n",
        "#If we have a large iteration value, like 100, we can get the convergence value\n",
        "x1 = DifferentOfValue(100,100)\n",
        "plt.plot(x1)\n",
        "print(x1)"
      ],
      "execution_count": null,
      "outputs": [
        {
          "output_type": "stream",
          "text": [
            "[1.25992105 1.25992105 1.25992105 1.25992105 1.25992105 1.25992105\n",
            " 1.25992105 1.25992105 1.25992105 1.25992105 1.25992105 1.25992105\n",
            " 1.25992105 1.25992105 1.25992105 1.25992105 1.25992105 1.25992105\n",
            " 1.25992105 1.25992105 1.25992105 1.25992105 1.25992105 1.25992105\n",
            " 1.25992105 1.25992105 1.25992105 1.25992105 1.25992105 1.25992105\n",
            " 1.25992105 1.25992105 1.25992105 1.25992105 1.25992105 1.25992105\n",
            " 1.25992105 1.25992105 1.25992105 1.25992105 1.25992105 1.25992105\n",
            " 1.25992105 1.25992105 1.25992105 1.25992105 1.25992105 1.25992105\n",
            " 1.25992105 1.25992105 1.25992105 1.25992105 1.25992105 1.25992105\n",
            " 1.25992105 1.25992105 1.25992105 1.25992105 1.25992105 1.25992105\n",
            " 1.25992105 1.25992105 1.25992105 1.25992105 1.25992105 1.25992105\n",
            " 1.25992105 1.25992105 1.25992105 1.25992105 1.25992105 1.25992105\n",
            " 1.25992105 1.25992105 1.25992105 1.25992105 1.25992105 1.25992105\n",
            " 1.25992105 1.25992105 1.25992105 1.25992105 1.25992105 1.25992105\n",
            " 1.25992105 1.25992105 1.25992105 1.25992105 1.25992105 1.25992105\n",
            " 1.25992105 1.25992105 1.25992105 1.25992105 1.25992105 1.25992105\n",
            " 1.25992105 1.25992105 1.25992105 1.25992105]\n"
          ],
          "name": "stdout"
        },
        {
          "output_type": "display_data",
          "data": {
            "image/png": "[encoded data removed]",
            "text/plain": [
              "<Figure size 432x288 with 1 Axes>"
            ]
          },
          "metadata": {
            "tags": [],
            "needs_background": "light"
          }
        }
      ]
    }
  ]
}